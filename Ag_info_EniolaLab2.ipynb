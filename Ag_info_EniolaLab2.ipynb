{
 "cells": [
  {
   "cell_type": "markdown",
   "metadata": {},
   "source": [
    "# Lab 2\n",
    "\n",
    "\n",
    "## In this lab please write a simple character, word, and line count function and test it on a couple of files\n",
    "\n",
    "\n",
    "## Some useful background material:\n",
    "\n",
    "The <a href=\"https://the-examples-book.com/book/introduction\" target=\"_blank\">Purdue Data Mine Examples Book</a> contains many useful chapters on data science. While they have not been directly designed for this class, they may be useful. You will not need to use scholar to perform the exercises of this class so don't worry about that part. Here is a direct link to the <a href=\"https://the-examples-book.com/book/python/introduction\" target=\"_blank\">Python chapter.</a>\n",
    "\n",
    "\n",
    "Additional useful links for Python include:\n",
    "\n",
    "<a href=\"https://docs.python.org/3/\" target=\"_blank\">Python 3.9.4 documentation</a>\n",
    "\n",
    "The <a href=\"https://pypi.org/\" target=\"_blank\">Python Package Index</a> (This contains many of the useful Python \"add-on\" packages such as the math package)\n",
    "\n",
    "The <a href=\"https://numpy.org/\" target=\"_blank\">Numpy Package</a> (This contains specialized array (vector and matrix) routines. Numpy stands for \"Numerical Python\")\n",
    "\n",
    "United States Department of Agriculture: <a href=\"https://quickstats.nass.usda.gov/\" target=\"_blank\">Quick Stats</a> (The USDA's National Ag Statistics Service -- go here and familiarize yourself with the available data)"
   ]
  },
  {
   "cell_type": "code",
   "execution_count": 8,
   "metadata": {
    "tags": []
   },
   "outputs": [],
   "source": [
    "# Import packages ...\n",
    "import numpy as np\n",
    "import matplotlib as mpl\n",
    "import matplotlib.pyplot as plt"
   ]
  },
  {
   "cell_type": "markdown",
   "metadata": {},
   "source": [
    "## A Python Function to count characters, words, and lines in a file\n",
    "\n",
    "Takes a file located in the current working directory. Reads it. And counts these items printing the numbers to standard output ..."
   ]
  },
  {
   "cell_type": "code",
   "execution_count": 26,
   "metadata": {
    "tags": []
   },
   "outputs": [],
   "source": [
    "def PoorMansWordCount(file_name):\n",
    "        fin = open(file_name, 'r', encoding='utf-8')\n",
    "        # Initialize three variables to zero for holding the numbers of characters, words, and lines\n",
    "        num_lines = 0\n",
    "        num_chars = 0\n",
    "        num_words = 0\n",
    "\n",
    "        for line in fin:\n",
    "            num_lines += 1\n",
    "            num_chars += len(line.rstrip())\n",
    "            num_words += len(line.split())\n",
    "\n",
    "        print(\"The number of line in {} is {}.\".format(file_name, num_lines))\n",
    "        print(\"The number of word in {} is {}.\".format(file_name, num_words))\n",
    "        print(\"The number of characters in {} is {}.\".format(file_name, num_chars))\n",
    "        fin.close()\n",
    "\n",
    "        return None\n"
   ]
  },
  {
   "cell_type": "code",
   "execution_count": 27,
   "metadata": {
    "tags": []
   },
   "outputs": [
    {
     "name": "stdout",
     "output_type": "stream",
     "text": [
      "The number of line in PLimerick.txt is 8.\n",
      "The number of word in PLimerick.txt is 42.\n",
      "The number of characters in PLimerick.txt is 184.\n"
     ]
    }
   ],
   "source": [
    "# Test your solution on the PLimerick file ...\n",
    "\n",
    "PoorMansWordCount('PLimerick.txt')"
   ]
  },
  {
   "cell_type": "code",
   "execution_count": 28,
   "metadata": {
    "tags": []
   },
   "outputs": [
    {
     "name": "stdout",
     "output_type": "stream",
     "text": [
      "The number of line in ObamaFirstInagural.tex is 183.\n",
      "The number of word in ObamaFirstInagural.tex is 2423.\n",
      "The number of characters in ObamaFirstInagural.tex is 13310.\n"
     ]
    }
   ],
   "source": [
    "# Test your solution on President Obama's First Inagural Speech\n",
    "\n",
    "PoorMansWordCount('ObamaFirstInagural.tex')"
   ]
  },
  {
   "cell_type": "code",
   "execution_count": null,
   "metadata": {},
   "outputs": [],
   "source": []
  },
  {
   "cell_type": "code",
   "execution_count": null,
   "metadata": {},
   "outputs": [],
   "source": []
  }
 ],
 "metadata": {
  "kernelspec": {
   "display_name": "Python 3 (ipykernel)",
   "language": "python",
   "name": "python3"
  },
  "language_info": {
   "codemirror_mode": {
    "name": "ipython",
    "version": 3
   },
   "file_extension": ".py",
   "mimetype": "text/x-python",
   "name": "python",
   "nbconvert_exporter": "python",
   "pygments_lexer": "ipython3",
   "version": "3.11.5"
  }
 },
 "nbformat": 4,
 "nbformat_minor": 4
}
